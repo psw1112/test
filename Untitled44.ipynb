{
  "nbformat": 4,
  "nbformat_minor": 0,
  "metadata": {
    "colab": {
      "provenance": [],
      "mount_file_id": "1dAQdYrKVRVXlXRnIFXtR25SwIcqOU5Tf",
      "authorship_tag": "ABX9TyNMBFYdsx6lz79wl7dmDGQH",
      "include_colab_link": true
    },
    "kernelspec": {
      "name": "python3",
      "display_name": "Python 3"
    },
    "language_info": {
      "name": "python"
    },
    "accelerator": "GPU",
    "gpuClass": "standard"
  },
  "cells": [
    {
      "cell_type": "markdown",
      "metadata": {
        "id": "view-in-github",
        "colab_type": "text"
      },
      "source": [
        "<a href=\"https://colab.research.google.com/github/psw1112/test/blob/main/Untitled44.ipynb\" target=\"_parent\"><img src=\"https://colab.research.google.com/assets/colab-badge.svg\" alt=\"Open In Colab\"/></a>"
      ]
    },
    {
      "cell_type": "code",
      "execution_count": 30,
      "metadata": {
        "id": "2w5J9jDJxT1D"
      },
      "outputs": [],
      "source": [
        "import numpy as np\n",
        "import tensorflow as tf\n",
        "from tensorflow.keras.datasets import cifar10\n",
        "from tensorflow.keras.preprocessing.image import ImageDataGenerator\n",
        "\n",
        "(x_train, t_train), (x_test, t_test) = cifar10.load_data()\n",
        "\n",
        "batch_size = 32\n",
        "epochs = 20\n",
        "n_class = 10\n",
        "\n",
        "x_train = x_train / 255 # 0에서 1의 범위에 넣는다\n",
        "x_test = x_test / 255\n",
        "t_train = tf.keras.utils.to_categorical(t_train, n_class)\n",
        "t_test = tf.keras.utils.to_categorical(t_test, n_class)"
      ]
    },
    {
      "cell_type": "code",
      "source": [
        "n=int(input())\n",
        "b=0\n",
        "for i in range(n):\n",
        "  a=int(input())\n",
        "  if a==1:\n",
        "    b+=1\n",
        "  for j in range(2,a):\n",
        "    if a%j==0:\n",
        "      b+=1\n",
        "      break\n",
        "print(n-b)"
      ],
      "metadata": {
        "colab": {
          "base_uri": "https://localhost:8080/"
        },
        "id": "WiWZdKecyQjM",
        "outputId": "d4532be2-0652-4f09-f4a4-c35125939c82"
      },
      "execution_count": 21,
      "outputs": [
        {
          "output_type": "stream",
          "name": "stdout",
          "text": [
            "4\n",
            "4\n",
            "6\n",
            "8\n",
            "10\n",
            "0\n"
          ]
        }
      ]
    },
    {
      "cell_type": "code",
      "source": [
        "from tensorflow.keras.models import Sequential\n",
        "from tensorflow.keras.layers import Dense, Dropout, Activation,Flatten\n",
        "\n",
        "from tensorflow.keras.layers import Conv2D, MaxPooling2D\n",
        "from tensorflow.keras.optimizers import Adam\n",
        "\n",
        "model = Sequential()"
      ],
      "metadata": {
        "id": "wKyu5KtRBwuM"
      },
      "execution_count": 32,
      "outputs": []
    },
    {
      "cell_type": "code",
      "source": [
        "model.add(Conv2D(32,(3,3), padding='same', input_shape=x_train.shape[1:]))\n",
        "model.add(Activation('relu'))\n",
        "model.add(Conv2D(32, (3,3)))\n",
        "model.add(Activation('relu'))\n",
        "model.add(MaxPooling2D(pool_size=(2,2)))\n",
        "\n",
        "model.add(Conv2D(64, (3,3),padding=\"same\"))\n",
        "model.add(Activation('relu'))\n",
        "model.add(Conv2D(64, (3,3)))\n",
        "model.add(Activation('relu'))\n",
        "model.add(MaxPooling2D(pool_size=(2,2)))"
      ],
      "metadata": {
        "id": "9mltp5PKC0B0"
      },
      "execution_count": 33,
      "outputs": []
    },
    {
      "cell_type": "code",
      "source": [
        "model.add(Flatten())\n",
        "model.add(Dense(256))\n",
        "model.add(Activation('relu'))\n",
        "model.add(Dropout(0.5))\n",
        "model.add(Dense(n_class))\n",
        "model.add(Activation(\"softmax\"))\n",
        "\n",
        "model.compile(optimizer=Adam(),loss='categorical_crossentropy',metrics=[\"accuracy\"])\n",
        "model.summary()"
      ],
      "metadata": {
        "colab": {
          "base_uri": "https://localhost:8080/"
        },
        "id": "6HFh-iRlEcGc",
        "outputId": "ae8cf1c6-edfa-49cf-b831-66d3f9e77e19"
      },
      "execution_count": 38,
      "outputs": [
        {
          "output_type": "stream",
          "name": "stdout",
          "text": [
            "Model: \"sequential\"\n",
            "_________________________________________________________________\n",
            " Layer (type)                Output Shape              Param #   \n",
            "=================================================================\n",
            " conv2d_5 (Conv2D)           (None, 32, 32, 32)        896       \n",
            "                                                                 \n",
            " activation (Activation)     (None, 32, 32, 32)        0         \n",
            "                                                                 \n",
            " conv2d_6 (Conv2D)           (None, 30, 30, 32)        9248      \n",
            "                                                                 \n",
            " activation_1 (Activation)   (None, 30, 30, 32)        0         \n",
            "                                                                 \n",
            " max_pooling2d (MaxPooling2D  (None, 15, 15, 32)       0         \n",
            " )                                                               \n",
            "                                                                 \n",
            " conv2d_7 (Conv2D)           (None, 15, 15, 64)        18496     \n",
            "                                                                 \n",
            " activation_2 (Activation)   (None, 15, 15, 64)        0         \n",
            "                                                                 \n",
            " conv2d_8 (Conv2D)           (None, 13, 13, 64)        36928     \n",
            "                                                                 \n",
            " activation_3 (Activation)   (None, 13, 13, 64)        0         \n",
            "                                                                 \n",
            " max_pooling2d_1 (MaxPooling  (None, 6, 6, 64)         0         \n",
            " 2D)                                                             \n",
            "                                                                 \n",
            " flatten_2 (Flatten)         (None, 2304)              0         \n",
            "                                                                 \n",
            " dense (Dense)               (None, 256)               590080    \n",
            "                                                                 \n",
            " activation_4 (Activation)   (None, 256)               0         \n",
            "                                                                 \n",
            " dropout (Dropout)           (None, 256)               0         \n",
            "                                                                 \n",
            " dense_1 (Dense)             (None, 10)                2570      \n",
            "                                                                 \n",
            " activation_5 (Activation)   (None, 10)                0         \n",
            "                                                                 \n",
            " flatten_3 (Flatten)         (None, 10)                0         \n",
            "                                                                 \n",
            " dense_2 (Dense)             (None, 256)               2816      \n",
            "                                                                 \n",
            " activation_6 (Activation)   (None, 256)               0         \n",
            "                                                                 \n",
            " dropout_1 (Dropout)         (None, 256)               0         \n",
            "                                                                 \n",
            " dense_3 (Dense)             (None, 10)                2570      \n",
            "                                                                 \n",
            " activation_7 (Activation)   (None, 10)                0         \n",
            "                                                                 \n",
            "=================================================================\n",
            "Total params: 663,604\n",
            "Trainable params: 663,604\n",
            "Non-trainable params: 0\n",
            "_________________________________________________________________\n"
          ]
        }
      ]
    },
    {
      "cell_type": "code",
      "source": [
        "from tensorflow.keras.preprocessing.image import ImageDataGenerator\n",
        "\n",
        "generator = ImageDataGenerator(\n",
        "    rotation_range=0.2,\n",
        "    horizontal_flip=True)\n",
        "generator.fit(x_train)\n",
        "\n",
        "history = model.fit_generator(generator.flow(x_train, t_train,\n",
        "batch_size=batch_size), epochs=epochs, validation_data=(x_test, t_test))"
      ],
      "metadata": {
        "colab": {
          "base_uri": "https://localhost:8080/"
        },
        "id": "vjQUwsyJ_zXz",
        "outputId": "90e09d71-263a-443d-e2c9-dc872930eee6"
      },
      "execution_count": null,
      "outputs": [
        {
          "output_type": "stream",
          "name": "stdout",
          "text": [
            "Epoch 1/20\n"
          ]
        },
        {
          "output_type": "stream",
          "name": "stderr",
          "text": [
            "<ipython-input-40-01e06e676bc8>:8: UserWarning: `Model.fit_generator` is deprecated and will be removed in a future version. Please use `Model.fit`, which supports generators.\n",
            "  history = model.fit_generator(generator.flow(x_train, t_train,\n"
          ]
        },
        {
          "output_type": "stream",
          "name": "stdout",
          "text": [
            "1563/1563 [==============================] - 44s 21ms/step - loss: 1.8717 - accuracy: 0.2666 - val_loss: 1.5368 - val_accuracy: 0.4007\n",
            "Epoch 2/20\n",
            "1563/1563 [==============================] - 30s 19ms/step - loss: 1.4492 - accuracy: 0.4538 - val_loss: 1.2810 - val_accuracy: 0.5292\n",
            "Epoch 3/20\n",
            "1563/1563 [==============================] - 31s 20ms/step - loss: 1.2360 - accuracy: 0.5516 - val_loss: 1.0864 - val_accuracy: 0.6039\n",
            "Epoch 4/20\n",
            "1563/1563 [==============================] - 30s 19ms/step - loss: 1.0936 - accuracy: 0.6133 - val_loss: 0.9816 - val_accuracy: 0.6538\n",
            "Epoch 5/20\n",
            "1563/1563 [==============================] - 31s 20ms/step - loss: 0.9996 - accuracy: 0.6528 - val_loss: 0.9384 - val_accuracy: 0.6771\n",
            "Epoch 6/20\n",
            "1563/1563 [==============================] - 30s 19ms/step - loss: 0.9243 - accuracy: 0.6826 - val_loss: 0.8607 - val_accuracy: 0.7062\n",
            "Epoch 7/20\n",
            "1563/1563 [==============================] - 30s 19ms/step - loss: 0.8659 - accuracy: 0.7068 - val_loss: 0.8361 - val_accuracy: 0.7239\n",
            "Epoch 8/20\n",
            "1563/1563 [==============================] - 31s 20ms/step - loss: 0.8347 - accuracy: 0.7196 - val_loss: 0.8211 - val_accuracy: 0.7223\n",
            "Epoch 9/20\n",
            "1563/1563 [==============================] - 30s 19ms/step - loss: 0.7915 - accuracy: 0.7343 - val_loss: 0.8059 - val_accuracy: 0.7327\n",
            "Epoch 10/20\n",
            "1563/1563 [==============================] - 31s 20ms/step - loss: 0.7656 - accuracy: 0.7422 - val_loss: 0.7671 - val_accuracy: 0.7431\n",
            "Epoch 11/20\n",
            "1563/1563 [==============================] - 30s 19ms/step - loss: 0.7352 - accuracy: 0.7549 - val_loss: 0.7649 - val_accuracy: 0.7451\n",
            "Epoch 12/20\n",
            "1563/1563 [==============================] - 31s 20ms/step - loss: 0.7136 - accuracy: 0.7621 - val_loss: 0.7294 - val_accuracy: 0.7529\n",
            "Epoch 13/20\n",
            "1563/1563 [==============================] - 30s 19ms/step - loss: 0.6898 - accuracy: 0.7705 - val_loss: 0.7584 - val_accuracy: 0.7523\n",
            "Epoch 14/20\n",
            "1563/1563 [==============================] - 31s 20ms/step - loss: 0.6781 - accuracy: 0.7762 - val_loss: 0.7109 - val_accuracy: 0.7690\n",
            "Epoch 15/20\n",
            "1563/1563 [==============================] - 31s 19ms/step - loss: 0.6559 - accuracy: 0.7812 - val_loss: 0.7565 - val_accuracy: 0.7502\n",
            "Epoch 16/20\n",
            "1563/1563 [==============================] - 32s 21ms/step - loss: 0.6496 - accuracy: 0.7853 - val_loss: 0.7621 - val_accuracy: 0.7577\n",
            "Epoch 17/20\n",
            "1563/1563 [==============================] - 32s 20ms/step - loss: 0.6304 - accuracy: 0.7913 - val_loss: 0.7201 - val_accuracy: 0.7679\n",
            "Epoch 18/20\n",
            "1563/1563 [==============================] - 33s 21ms/step - loss: 0.6215 - accuracy: 0.7942 - val_loss: 0.7489 - val_accuracy: 0.7602\n",
            "Epoch 19/20\n",
            " 312/1563 [====>.........................] - ETA: 24s - loss: 0.5765 - accuracy: 0.8070"
          ]
        }
      ]
    },
    {
      "cell_type": "code",
      "source": [
        "import matplotlib.pyplot as plt\n",
        "\n",
        "train_loss = history.history[\"loss\"]\n",
        "train_acc = history.history['accuracy']\n",
        "val_loss = history.history['val_loss']\n",
        "val_acc=history.history[\"val_accuracy\"]\n",
        "\n",
        "plt.plot(np.arange(len(train_loss)), train_loss, label='loss')\n",
        "plt.plot(np.arange(len(val_loss)), val_loss, label='val_loss')\n",
        "plt.legend()\n",
        "plt.show()\n",
        "\n",
        "plt.plot(np.arange(len(train_acc)), train_acc, label='acc')\n",
        "plt.plot(np.arange(len(val_acc)),val_acc, label='val_acc')\n",
        "plt.legend()\n",
        "plt.show()"
      ],
      "metadata": {
        "id": "ax2-02VOFn_7"
      },
      "execution_count": null,
      "outputs": []
    },
    {
      "cell_type": "code",
      "source": [
        "loss, accuracy= model.evaluate(x_test, t_test)\n",
        "print(\"오차:\", loss,\"정밀도:\",accuracy)"
      ],
      "metadata": {
        "id": "6n_deXBsG54Q"
      },
      "execution_count": null,
      "outputs": []
    }
  ]
}